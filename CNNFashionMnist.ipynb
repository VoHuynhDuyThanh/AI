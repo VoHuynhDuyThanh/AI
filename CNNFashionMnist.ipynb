{
  "nbformat": 4,
  "nbformat_minor": 0,
  "metadata": {
    "colab": {
      "provenance": [],
      "mount_file_id": "1H-VU9-ZUB5RQQEpDDxCQkdQQdf_hw8D7",
      "authorship_tag": "ABX9TyNTB3fBYjAqlEwEp6Aly33r",
      "include_colab_link": true
    },
    "kernelspec": {
      "name": "python3",
      "display_name": "Python 3"
    },
    "language_info": {
      "name": "python"
    }
  },
  "cells": [
    {
      "cell_type": "markdown",
      "metadata": {
        "id": "view-in-github",
        "colab_type": "text"
      },
      "source": [
        "<a href=\"https://colab.research.google.com/github/VoHuynhDuyThanh/AI/blob/main/CNNFashionMnist.ipynb\" target=\"_parent\"><img src=\"https://colab.research.google.com/assets/colab-badge.svg\" alt=\"Open In Colab\"/></a>"
      ]
    },
    {
      "cell_type": "code",
      "execution_count": null,
      "metadata": {
        "id": "4fZIaNsD3zXK"
      },
      "outputs": [],
      "source": [
        "from keras.datasets import fashion_mnist\n",
        "(train_X, train_Y), (test_X, test_Y ) = fashion_mnist.load_data()"
      ]
    },
    {
      "cell_type": "code",
      "source": [
        "test_X.shape"
      ],
      "metadata": {
        "colab": {
          "base_uri": "https://localhost:8080/"
        },
        "id": "JeTwifLm4pPg",
        "outputId": "9e8692e8-2d6c-47ce-f9e0-d0a25ddec9e8"
      },
      "execution_count": null,
      "outputs": [
        {
          "output_type": "execute_result",
          "data": {
            "text/plain": [
              "(10000, 28, 28)"
            ]
          },
          "metadata": {},
          "execution_count": 42
        }
      ]
    },
    {
      "cell_type": "code",
      "source": [
        "import matplotlib.pyplot as plt\n",
        "plt.figure(figsize = [10,10])\n",
        "plt.subplot(121)\n",
        "plt.imshow(train_X[0], cmap='gray')\n",
        "plt.title('So: {}'.format(train_Y[0]))\n",
        "plt.subplot(122)\n",
        "plt.imshow(train_X[100], cmap='gray')\n",
        "plt.title('So: {}'.format(train_Y[100]))"
      ],
      "metadata": {
        "colab": {
          "base_uri": "https://localhost:8080/",
          "height": 453
        },
        "id": "8yi36UWt4tSV",
        "outputId": "d9e1bba9-8cf3-4ed7-db58-d01377ab7410"
      },
      "execution_count": null,
      "outputs": [
        {
          "output_type": "execute_result",
          "data": {
            "text/plain": [
              "Text(0.5, 1.0, 'So: 8')"
            ]
          },
          "metadata": {},
          "execution_count": 43
        },
        {
          "output_type": "display_data",
          "data": {
            "text/plain": [
              "<Figure size 1000x1000 with 2 Axes>"
            ],
            "image/png": "[encoded data removed]"
          },
          "metadata": {}
        }
      ]
    },
    {
      "cell_type": "code",
      "source": [
        "train_X = train_X.reshape((60000, 28, 28, 1))\n",
        "test_X = test_X.reshape((10000, 28, 28, 1))\n",
        "train_X.shape, test_X.shape\n",
        "train_X = train_X.astype('float32')\n",
        "train_X = train_X/255\n",
        "test_X = test_X.astype('float32')\n",
        "test_X = test_X/255"
      ],
      "metadata": {
        "id": "pYTnMkIs6ERZ"
      },
      "execution_count": null,
      "outputs": []
    },
    {
      "cell_type": "code",
      "source": [
        "from keras.utils import to_categorical\n",
        "train_Y = to_categorical(train_Y)\n",
        "test_Y = to_categorical(test_Y)"
      ],
      "metadata": {
        "id": "dkAZj--h7Rno"
      },
      "execution_count": null,
      "outputs": []
    },
    {
      "cell_type": "code",
      "source": [
        "from keras.models import Sequential,Model\n",
        "from keras.layers import Dense,Flatten,Dropout,Conv2D,MaxPooling2D,Normalization,Input\n",
        "from keras.optimizers import Adam\n",
        "from keras import losses\n",
        "loss = losses\n",
        "batch_size = 64\n",
        "epochs = 20\n",
        "classes = 10"
      ],
      "metadata": {
        "id": "34poagTw7eJ2"
      },
      "execution_count": null,
      "outputs": []
    },
    {
      "cell_type": "code",
      "source": [
        "from keras.layers import LeakyReLU\n",
        "model = Sequential()\n",
        "model.add(Conv2D(32, kernel_size = (3,3), activation = 'linear', input_shape=(28,28,1), padding= 'same'))\n",
        "model.add(LeakyReLU(alpha = 0.1))"
      ],
      "metadata": {
        "id": "1rtyIWl8-H2k"
      },
      "execution_count": null,
      "outputs": []
    },
    {
      "cell_type": "code",
      "source": [
        "model.add(MaxPooling2D((2,2), padding = 'same'))\n",
        "model.add(Conv2D(64, (3,3), activation = 'linear', padding = 'same'))\n",
        "model.add(LeakyReLU(alpha = 0.1))\n",
        "\n",
        "model.add(MaxPooling2D((2,2), padding = 'same'))\n",
        "model.add(Conv2D(128, (3,3), activation = 'linear', padding = 'same'))\n",
        "model.add(LeakyReLU(alpha = 0.1))"
      ],
      "metadata": {
        "id": "fHTTkb0y-53d"
      },
      "execution_count": null,
      "outputs": []
    },
    {
      "cell_type": "code",
      "source": [
        "#Đưa vào ANN, bộ ANN để phân loại:\n",
        "from keras.losses import categorical_crossentropy\n",
        "model.add(Flatten())\n",
        "model.add(Dense(128, activation = 'linear'))\n",
        "model.add(LeakyReLU(alpha = 0.1))\n",
        "model.add(Dense(classes, activation = 'softmax'))\n",
        "\n",
        "#Compile:\n",
        "model.compile( loss =loss.categorical_crossentropy ,optimizer= \"adam\", metrics= ['accuracy'])\n",
        "model.summary()\n",
        "train = model.fit(train_X, train_Y, batch_size= batch_size, epochs= epochs, verbose= 1)"
      ],
      "metadata": {
        "colab": {
          "base_uri": "https://localhost:8080/"
        },
        "id": "4NQOt-TuAUdK",
        "outputId": "663376a4-9e3f-433e-9270-d0208197eee5"
      },
      "execution_count": null,
      "outputs": [
        {
          "output_type": "stream",
          "name": "stdout",
          "text": [
            "Model: \"sequential_6\"\n",
            "_________________________________________________________________\n",
            " Layer (type)                Output Shape              Param #   \n",
            "=================================================================\n",
            " conv2d_16 (Conv2D)          (None, 28, 28, 32)        320       \n",
            "                                                                 \n",
            " leaky_re_lu_22 (LeakyReLU)  (None, 28, 28, 32)        0         \n",
            "                                                                 \n",
            " max_pooling2d_10 (MaxPoolin  (None, 14, 14, 32)       0         \n",
            " g2D)                                                            \n",
            "                                                                 \n",
            " conv2d_17 (Conv2D)          (None, 14, 14, 64)        18496     \n",
            "                                                                 \n",
            " leaky_re_lu_23 (LeakyReLU)  (None, 14, 14, 64)        0         \n",
            "                                                                 \n",
            " max_pooling2d_11 (MaxPoolin  (None, 7, 7, 64)         0         \n",
            " g2D)                                                            \n",
            "                                                                 \n",
            " conv2d_18 (Conv2D)          (None, 7, 7, 128)         73856     \n",
            "                                                                 \n",
            " leaky_re_lu_24 (LeakyReLU)  (None, 7, 7, 128)         0         \n",
            "                                                                 \n",
            " flatten_6 (Flatten)         (None, 6272)              0         \n",
            "                                                                 \n",
            " dense_12 (Dense)            (None, 128)               802944    \n",
            "                                                                 \n",
            " leaky_re_lu_25 (LeakyReLU)  (None, 128)               0         \n",
            "                                                                 \n",
            " dense_13 (Dense)            (None, 10)                1290      \n",
            "                                                                 \n",
            "=================================================================\n",
            "Total params: 896,906\n",
            "Trainable params: 896,906\n",
            "Non-trainable params: 0\n",
            "_________________________________________________________________\n",
            "Epoch 1/20\n",
            "938/938 [==============================] - 115s 121ms/step - loss: 0.4069 - accuracy: 0.8516\n",
            "Epoch 2/20\n",
            "938/938 [==============================] - 112s 119ms/step - loss: 0.2574 - accuracy: 0.9059\n",
            "Epoch 3/20\n",
            "938/938 [==============================] - 113s 120ms/step - loss: 0.2152 - accuracy: 0.9204\n",
            "Epoch 4/20\n",
            "938/938 [==============================] - 113s 120ms/step - loss: 0.1858 - accuracy: 0.9309\n",
            "Epoch 5/20\n",
            "938/938 [==============================] - 113s 120ms/step - loss: 0.1624 - accuracy: 0.9381\n",
            "Epoch 6/20\n",
            "938/938 [==============================] - 112s 120ms/step - loss: 0.1405 - accuracy: 0.9466\n",
            "Epoch 7/20\n",
            "938/938 [==============================] - 113s 120ms/step - loss: 0.1177 - accuracy: 0.9566\n",
            "Epoch 8/20\n",
            "938/938 [==============================] - 113s 120ms/step - loss: 0.1021 - accuracy: 0.9615\n",
            "Epoch 9/20\n",
            "938/938 [==============================] - 111s 119ms/step - loss: 0.0830 - accuracy: 0.9688\n",
            "Epoch 10/20\n",
            "938/938 [==============================] - 112s 120ms/step - loss: 0.0712 - accuracy: 0.9732\n",
            "Epoch 11/20\n",
            "938/938 [==============================] - 112s 120ms/step - loss: 0.0623 - accuracy: 0.9769\n",
            "Epoch 12/20\n",
            "938/938 [==============================] - 111s 119ms/step - loss: 0.0543 - accuracy: 0.9795\n",
            "Epoch 13/20\n",
            "938/938 [==============================] - 113s 120ms/step - loss: 0.0476 - accuracy: 0.9821\n",
            "Epoch 14/20\n",
            "938/938 [==============================] - 111s 118ms/step - loss: 0.0429 - accuracy: 0.9841\n",
            "Epoch 15/20\n",
            "938/938 [==============================] - 110s 117ms/step - loss: 0.0371 - accuracy: 0.9869\n",
            "Epoch 16/20\n",
            "938/938 [==============================] - 110s 117ms/step - loss: 0.0375 - accuracy: 0.9866\n",
            "Epoch 17/20\n",
            "938/938 [==============================] - 110s 117ms/step - loss: 0.0344 - accuracy: 0.9873\n",
            "Epoch 18/20\n",
            "938/938 [==============================] - 111s 119ms/step - loss: 0.0327 - accuracy: 0.9883\n",
            "Epoch 19/20\n",
            "938/938 [==============================] - 111s 118ms/step - loss: 0.0292 - accuracy: 0.9895\n",
            "Epoch 20/20\n",
            "938/938 [==============================] - 110s 118ms/step - loss: 0.0302 - accuracy: 0.9890\n"
          ]
        }
      ]
    },
    {
      "cell_type": "code",
      "source": [
        "eval = model.evaluate(test_X, test_Y, verbose=0)\n",
        "print('Test loss:', eval[0])\n",
        "print('Test accunacy', eval[1])\n",
        "accuracy = train.history['accuracy']\n",
        "loss = train.history['loss']\n",
        "epochs = range(len(accuracy))\n",
        "plt.plot(epochs, accuracy,'bo', label = 'Traning Accuracy')\n",
        "plt.plot(epochs, loss, 'b', label= 'Test Accuracy')\n",
        "plt.title('Training & Testing Accuracy')"
      ],
      "metadata": {
        "colab": {
          "base_uri": "https://localhost:8080/",
          "height": 507
        },
        "id": "hS-rOOTsCWzB",
        "outputId": "83774b02-fceb-47bf-b252-86c1a17a0a55"
      },
      "execution_count": null,
      "outputs": [
        {
          "output_type": "stream",
          "name": "stdout",
          "text": [
            "Test loss: 0.46385371685028076\n",
            "Test accunacy 0.9208999872207642\n"
          ]
        },
        {
          "output_type": "execute_result",
          "data": {
            "text/plain": [
              "Text(0.5, 1.0, 'Training & Testing Accuracy')"
            ]
          },
          "metadata": {},
          "execution_count": 58
        },
        {
          "output_type": "display_data",
          "data": {
            "text/plain": [
              "<Figure size 640x480 with 1 Axes>"
            ],
            "image/png": "[encoded data removed]"
          },
          "metadata": {}
        }
      ]
    },
    {
      "cell_type": "code",
      "source": [],
      "metadata": {
        "id": "UJ_FQEPJQsdg"
      },
      "execution_count": null,
      "outputs": []
    }
  ]
}