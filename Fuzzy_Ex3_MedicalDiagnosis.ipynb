{
  "nbformat": 4,
  "nbformat_minor": 0,
  "metadata": {
    "colab": {
      "provenance": [],
      "authorship_tag": "ABX9TyMHRZhE5At5sP88cRsBla4Q",
      "include_colab_link": true
    },
    "kernelspec": {
      "name": "python3",
      "display_name": "Python 3"
    },
    "language_info": {
      "name": "python"
    }
  },
  "cells": [
    {
      "cell_type": "markdown",
      "metadata": {
        "id": "view-in-github",
        "colab_type": "text"
      },
      "source": [
        "<a href=\"https://colab.research.google.com/github/VoHuynhDuyThanh/AI/blob/main/Fuzzy_Ex3_MedicalDiagnosis.ipynb\" target=\"_parent\"><img src=\"https://colab.research.google.com/assets/colab-badge.svg\" alt=\"Open In Colab\"/></a>"
      ]
    },
    {
      "cell_type": "code",
      "execution_count": 34,
      "metadata": {
        "colab": {
          "base_uri": "https://localhost:8080/",
          "height": 298
        },
        "id": "h9g2HNk3oigP",
        "outputId": "520d75ae-144e-4e61-d2b6-ee1435d623e7"
      },
      "outputs": [
        {
          "output_type": "stream",
          "name": "stdout",
          "text": [
            "0.22499999999999973\n"
          ]
        },
        {
          "output_type": "display_data",
          "data": {
            "text/plain": [
              "<Figure size 432x288 with 1 Axes>"
            ],
            "image/png": "[encoded data removed]"
          },
          "metadata": {
            "needs_background": "light"
          }
        }
      ],
      "source": [
        "import numpy as np\n",
        "import skfuzzy as fuzz \n",
        "from skfuzzy import control as ctrl \n",
        "\n",
        "#Exercise about Medical Diagnosis \n",
        "\n",
        "# 11 input: \"fever\" \"headache\" \"nausea\" \"vomiting\" \"jaundice\"\n",
        "#  \" enlarge liver\" \"joint pain\" \"body weakness\" \"dizziness\"\n",
        "#  \"loss of appetite\" \"MP\" \n",
        "# 1 output: \"conclusion\"\n",
        "fever = ctrl.Antecedent(np.arange(0,1,0.1), 'fever')\n",
        "headache = ctrl.Antecedent(np.arange(0,1,0.1), 'headache')\n",
        "nausea = ctrl.Antecedent(np.arange(0,1,0.1), 'nausea')\n",
        "vomiting = ctrl.Antecedent(np.arange(0,1,0.1), 'vomiting')\n",
        "jaundice = ctrl.Antecedent(np.arange(0,1,0.1), 'jaundice')\n",
        "enlarge_liver = ctrl.Antecedent(np.arange(0,1,0.1), 'enlarge_liver')\n",
        "joint_pain = ctrl.Antecedent(np.arange(0,1,0.1), 'joint_pain')\n",
        "body_weakness = ctrl.Antecedent(np.arange(0,1,0.1), 'body_weakness')\n",
        "dizziness = ctrl.Antecedent(np.arange(0,1,0.1), 'dizziness')\n",
        "loss = ctrl.Antecedent(np.arange(0,1,0.1), 'loss')\n",
        "mp = ctrl.Antecedent(np.arange(0,1,0.1), 'mp')\n",
        "\n",
        "conclusion = ctrl.Consequent(np.arange(0,1,0.01), 'conclusion')\n",
        "\n",
        "# 4 levels:  \"mild\" \"moderate\" \"service\" \"very service\"\n",
        "fever['mild'] = fuzz.trimf(fever.universe, [0.1,0.2,0.3])\n",
        "fever['moderate'] = fuzz.trimf(fever.universe, [0.3,0.45,0.6])\n",
        "fever['service'] = fuzz.trimf(fever.universe, [0.6,0.7,0.8])\n",
        "fever['very_service'] = fuzz.trimf(fever.universe, [0.8,0.9,1])\n",
        "\n",
        "headache['mild'] = fuzz.trimf(headache.universe,  [0.1,0.2,0.3])\n",
        "headache['moderate'] = fuzz.trimf(headache.universe, [0.3,0.45,0.6])\n",
        "headache['service'] = fuzz.trimf(headache.universe, [0.6,0.7,0.8])\n",
        "headache['very_service'] = fuzz.trimf(headache.universe, [0.8,0.9,1])\n",
        "\n",
        "nausea['mild'] = fuzz.trimf(nausea.universe,  [0.1,0.2,0.3])\n",
        "nausea['moderate'] = fuzz.trimf(nausea.universe, [0.3,0.45,0.6])\n",
        "nausea['service'] = fuzz.trimf(nausea.universe, [0.6,0.7,0.8])\n",
        "nausea['very_service'] = fuzz.trimf(nausea.universe, [0.8,0.9,1])\n",
        "\n",
        "vomiting['mild'] = fuzz.trimf(vomiting.universe,  [0.1,0.2,0.3])\n",
        "vomiting['moderate'] = fuzz.trimf(vomiting.universe, [0.3,0.45,0.6])\n",
        "vomiting['service'] = fuzz.trimf(vomiting.universe, [0.6,0.7,0.8])\n",
        "vomiting['very_service'] = fuzz.trimf(vomiting.universe, [0.8,0.9,1])\n",
        "\n",
        "jaundice['mild'] = fuzz.trimf(jaundice.universe,  [0.1,0.2,0.3])\n",
        "jaundice['moderate'] = fuzz.trimf(jaundice.universe, [0.3,0.45,0.6])\n",
        "jaundice['service'] = fuzz.trimf(jaundice.universe, [0.6,0.7,0.8])\n",
        "jaundice['very_service'] = fuzz.trimf(jaundice.universe, [0.8,0.9,1])\n",
        "\n",
        "enlarge_liver['mild'] = fuzz.trimf(enlarge_liver.universe,  [0.1,0.2,0.3])\n",
        "enlarge_liver['moderate'] = fuzz.trimf(enlarge_liver.universe, [0.3,0.45,0.6])\n",
        "enlarge_liver['service'] = fuzz.trimf(enlarge_liver.universe, [0.6,0.7,0.8])\n",
        "enlarge_liver['very_service'] = fuzz.trimf(enlarge_liver.universe, [0.8,0.9,1])\n",
        "\n",
        "joint_pain['mild'] = fuzz.trimf(joint_pain.universe,  [0.1,0.2,0.3])\n",
        "joint_pain['moderate'] = fuzz.trimf(joint_pain.universe, [0.3,0.45,0.6])\n",
        "joint_pain['service'] = fuzz.trimf(joint_pain.universe, [0.6,0.7,0.8])\n",
        "joint_pain['very_service'] = fuzz.trimf(joint_pain.universe, [0.8,0.9,1])\n",
        "\n",
        "body_weakness['mild'] = fuzz.trimf(body_weakness.universe,  [0.1,0.2,0.3])\n",
        "body_weakness['moderate'] = fuzz.trimf(body_weakness.universe, [0.3,0.45,0.6])\n",
        "body_weakness['service'] = fuzz.trimf(body_weakness.universe, [0.6,0.7,0.8])\n",
        "body_weakness['very_service'] = fuzz.trimf(body_weakness.universe, [0.8,0.9,1])\n",
        "\n",
        "dizziness['mild'] = fuzz.trimf(dizziness.universe,  [0.1,0.2,0.3])\n",
        "dizziness['moderate'] = fuzz.trimf(dizziness.universe, [0.3,0.45,0.6])\n",
        "dizziness['service'] = fuzz.trimf(dizziness.universe, [0.6,0.7,0.8])\n",
        "dizziness['very_service'] = fuzz.trimf(dizziness.universe, [0.8,0.9,1])\n",
        "\n",
        "loss['mild'] = fuzz.trimf(loss.universe,  [0.1,0.2,0.3])\n",
        "loss['moderate'] = fuzz.trimf(loss.universe, [0.3,0.45,0.6])\n",
        "loss['service'] = fuzz.trimf(loss.universe, [0.6,0.7,0.8])\n",
        "loss['very_service'] = fuzz.trimf(loss.universe, [0.8,0.9,1])\n",
        "\n",
        "mp['mild'] = fuzz.trimf(mp.universe,  [0.1,0.2,0.3])\n",
        "mp['moderate'] = fuzz.trimf(mp.universe, [0.3,0.45,0.6])\n",
        "mp['service'] = fuzz.trimf(mp.universe, [0.6,0.7,0.8])\n",
        "mp['very_service'] = fuzz.trimf(mp.universe, [0.8,0.9,1])\n",
        "\n",
        "conclusion['mild'] = fuzz.trimf(conclusion.universe,  [0.1,0.2,0.3])\n",
        "conclusion['moderate'] = fuzz.trimf(conclusion.universe, [0.3,0.45,0.6])\n",
        "conclusion['service'] = fuzz.trimf(conclusion.universe, [0.6,0.7,0.8])\n",
        "conclusion['very_service'] = fuzz.trimf(conclusion.universe, [0.8,0.9,1])\n",
        "\n",
        "rule1 = ctrl.Rule(fever['mild']&headache['mild']&nausea['mild']&vomiting['mild']&jaundice['mild']&enlarge_liver['mild']&joint_pain['mild']&body_weakness['mild']&dizziness['service']&loss['mild']&mp['mild'],conclusion['mild'])\n",
        "rule2 = ctrl.Rule(fever['moderate']&headache['mild']&nausea['mild']&vomiting['mild']&jaundice['mild']&enlarge_liver['mild']&joint_pain['moderate']&body_weakness['moderate']&dizziness['service']&loss['service']&mp['moderate'],conclusion['moderate'])\n",
        "rule3 = ctrl.Rule(fever['service']&headache['moderate']&nausea['mild']&vomiting['mild']&jaundice['mild']&enlarge_liver['mild']&joint_pain['mild']&body_weakness['service']&dizziness['service']&loss['service']&mp['moderate'],conclusion['service'])\n",
        "rule4 = ctrl.Rule(fever['very_service']&headache['mild']&nausea['mild']&vomiting['mild']&jaundice['mild']&enlarge_liver['mild']&joint_pain['service']&body_weakness['service']&dizziness['service']&loss['mild']&mp['service'],conclusion['very_service'])\n",
        "\n",
        "rule5 = ctrl.Rule(fever['moderate']&headache['mild']&nausea['mild']&vomiting['moderate']&jaundice['mild']&enlarge_liver['mild']&joint_pain['moderate']&body_weakness['moderate']&dizziness['moderate']&loss['service']&mp['moderate'],conclusion['moderate'])\n",
        "rule6 = ctrl.Rule(fever['mild']&headache['moderate']&nausea['moderate']&vomiting['mild']&jaundice['mild']&enlarge_liver['mild']&joint_pain['mild']&body_weakness['mild']&dizziness['moderate']&loss['mild']&mp['mild'],conclusion['mild'])\n",
        "rule7 = ctrl.Rule(fever['mild']&headache['mild']&nausea['moderate']&vomiting['moderate']&jaundice['mild']&enlarge_liver['mild']&joint_pain['service']&body_weakness['service']&dizziness['moderate']&loss['moderate']&mp['moderate'],conclusion['service'])\n",
        "rule8 = ctrl.Rule(fever['moderate']&headache['moderate']&nausea['moderate']&vomiting['moderate']&jaundice['moderate']&enlarge_liver['moderate']&joint_pain['moderate']&body_weakness['moderate']&dizziness['moderate']&loss['moderate']&mp['moderate'],conclusion['moderate'])\n",
        "\n",
        "rule9 = ctrl.Rule(fever['moderate']&headache['mild']&nausea['moderate']&vomiting['moderate']&jaundice['mild']&enlarge_liver['service']&joint_pain['moderate']&body_weakness['moderate']&dizziness['service']&loss['moderate']&mp['moderate'],conclusion['moderate'])\n",
        "rule10 = ctrl.Rule(fever['mild']&headache['mild']&nausea['moderate']&vomiting['moderate']&jaundice['mild']&enlarge_liver['moderate']&joint_pain['mild']&body_weakness['mild']&dizziness['mild']&loss['mild']&mp['mild'],conclusion['mild'])\n",
        "rule11 = ctrl.Rule(fever['service']&headache['service']&nausea['service']&vomiting['service']&jaundice['service']&enlarge_liver['service']&joint_pain['service']&body_weakness['very_service']&dizziness['service']&loss['service']&mp['moderate'],conclusion['very_service'])\n",
        "rule12 = ctrl.Rule(fever['moderate']&headache['service']&nausea['moderate']&vomiting['service']&jaundice['moderate']&enlarge_liver['service']&joint_pain['moderate']&body_weakness['service']&dizziness['moderate']&loss['mild']&mp['moderate'],conclusion['service'])\n",
        "\n",
        "rule13 = ctrl.Rule(fever['mild']&headache['moderate']&nausea['moderate']&vomiting['moderate']&jaundice['mild']&enlarge_liver['mild']&joint_pain['mild']&body_weakness['moderate']&dizziness['mild']&loss['moderate']&mp['moderate'],conclusion['moderate'])\n",
        "rule14 = ctrl.Rule(fever['service']&headache['service']&nausea['moderate']&vomiting['service']&jaundice['service']&enlarge_liver['service']&joint_pain['service']&body_weakness['service']&dizziness['moderate']&loss['moderate']&mp['service'],conclusion['service'])\n",
        "rule15 = ctrl.Rule(fever['mild']&headache['mild']&nausea['mild']&vomiting['moderate']&jaundice['mild']&enlarge_liver['mild']&joint_pain['mild']&body_weakness['service']&dizziness['mild']&loss['service']&mp['moderate'],conclusion['service'])\n",
        "rule16 = ctrl.Rule(fever['very_service']&headache['moderate']&nausea['mild']&vomiting['moderate']&jaundice['service']&enlarge_liver['moderate']&joint_pain['mild']&body_weakness['very_service']&dizziness['service']&loss['mild']&mp['moderate'],conclusion['very_service'])\n",
        "\n",
        "rule17 = ctrl.Rule(fever['mild']&headache['very_service']&nausea['moderate']&vomiting['moderate']&jaundice['mild']&enlarge_liver['moderate']&joint_pain['mild']&body_weakness['moderate']&dizziness['very_service']&loss['mild']&mp['moderate'],conclusion['very_service'])\n",
        "rule18 = ctrl.Rule(fever['moderate']&headache['very_service']&nausea['very_service']&vomiting['mild']&jaundice['service']&enlarge_liver['service']&joint_pain['moderate']&body_weakness['service']&dizziness['very_service']&loss['very_service']&mp['service'],conclusion['very_service'])\n",
        "rule19 = ctrl.Rule(fever['moderate']&headache['moderate']&nausea['moderate']&vomiting['moderate']&jaundice['mild']&enlarge_liver['mild']&joint_pain['moderate']&body_weakness['moderate']&dizziness['moderate']&loss['mild']&mp['moderate'],conclusion['moderate'])\n",
        "rule20 = ctrl.Rule(fever['very_service']&headache['service']&nausea['service']&vomiting['service']&jaundice['service']&enlarge_liver['service']&joint_pain['service']&body_weakness['service']&dizziness['service']&loss['mild']&mp['moderate'],conclusion['very_service'])\n",
        "\n",
        "conclusion_ctrl = ctrl.ControlSystem([rule1, rule2, rule3, rule4, rule5, rule6, rule7, rule8, rule9, rule10, rule11, rule12,rule13, \n",
        "                                 rule14, rule15, rule16, rule17, rule18, rule19, rule20])\n",
        "conclusioning = ctrl.ControlSystemSimulation(conclusion_ctrl)\n",
        "\n",
        "conclusioning.input['fever'] = 0.3\n",
        "conclusioning.input['headache'] = 0.5\n",
        "conclusioning.input['nausea'] = 0.3\n",
        "conclusioning.input['vomiting'] = 0.3\n",
        "conclusioning.input['jaundice'] = 0.5\n",
        "conclusioning.input['enlarge_liver'] = 0.3\n",
        "conclusioning.input['joint_pain'] = 0.3\n",
        "conclusioning.input['body_weakness'] = 0.3\n",
        "conclusioning.input['dizziness'] = 0.3\n",
        "conclusioning.input['loss'] = 0.3\n",
        "conclusioning.input['mp'] = 0.3\n",
        "\n",
        "conclusioning.compute()\n",
        "\n",
        "print(conclusioning.output['conclusion'])\n",
        "\n",
        "conclusion.view(sim=conclusioning)\n"
      ]
    },
    {
      "cell_type": "code",
      "source": [
        "pip install -U scikit-fuzzy"
      ],
      "metadata": {
        "colab": {
          "base_uri": "https://localhost:8080/"
        },
        "id": "6aty0_vrqU2k",
        "outputId": "3df8c3bc-2f80-4ee1-a344-900b1a952ee6"
      },
      "execution_count": 2,
      "outputs": [
        {
          "output_type": "stream",
          "name": "stdout",
          "text": [
            "Looking in indexes: https://pypi.org/simple, https://us-python.pkg.dev/colab-wheels/public/simple/\n",
            "Collecting scikit-fuzzy\n",
            "  Downloading scikit-fuzzy-0.4.2.tar.gz (993 kB)\n",
            "\u001b[2K     \u001b[90m━━━━━━━━━━━━━━━━━━━━━━━━━━━━━━━━━━━━━━\u001b[0m \u001b[32m994.0/994.0 KB\u001b[0m \u001b[31m12.6 MB/s\u001b[0m eta \u001b[36m0:00:00\u001b[0m\n",
            "\u001b[?25h  Preparing metadata (setup.py) ... \u001b[?25l\u001b[?25hdone\n",
            "Requirement already satisfied: numpy>=1.6.0 in /usr/local/lib/python3.8/dist-packages (from scikit-fuzzy) (1.22.4)\n",
            "Requirement already satisfied: scipy>=0.9.0 in /usr/local/lib/python3.8/dist-packages (from scikit-fuzzy) (1.7.3)\n",
            "Requirement already satisfied: networkx>=1.9.0 in /usr/local/lib/python3.8/dist-packages (from scikit-fuzzy) (3.0)\n",
            "Building wheels for collected packages: scikit-fuzzy\n",
            "  Building wheel for scikit-fuzzy (setup.py) ... \u001b[?25l\u001b[?25hdone\n",
            "  Created wheel for scikit-fuzzy: filename=scikit_fuzzy-0.4.2-py3-none-any.whl size=894088 sha256=b07b59ca51d4ee0e726ea2e1ecde2dcc83d6287369745e42502000a4f751e454\n",
            "  Stored in directory: /root/.cache/pip/wheels/2c/04/80/7eefb1a2de7d36aefd06432fab2a1486caf0a0596a7067391a\n",
            "Successfully built scikit-fuzzy\n",
            "Installing collected packages: scikit-fuzzy\n",
            "Successfully installed scikit-fuzzy-0.4.2\n"
          ]
        }
      ]
    }
  ]
}