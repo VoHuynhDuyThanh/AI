{
  "nbformat": 4,
  "nbformat_minor": 0,
  "metadata": {
    "colab": {
      "provenance": [],
      "mount_file_id": "1NLVcWVTHkztw-3JTdXqIPEHaKC2paE1H",
      "authorship_tag": "ABX9TyMYsbSablUIuBDWtiVzoPUT",
      "include_colab_link": true
    },
    "kernelspec": {
      "name": "python3",
      "display_name": "Python 3"
    },
    "language_info": {
      "name": "python"
    },
    "accelerator": "GPU",
    "gpuClass": "standard"
  },
  "cells": [
    {
      "cell_type": "markdown",
      "metadata": {
        "id": "view-in-github",
        "colab_type": "text"
      },
      "source": [
        "<a href=\"https://colab.research.google.com/github/VoHuynhDuyThanh/AI/blob/main/Project/recognition_face_image.ipynb\" target=\"_parent\"><img src=\"https://colab.research.google.com/assets/colab-badge.svg\" alt=\"Open In Colab\"/></a>"
      ]
    },
    {
      "cell_type": "code",
      "execution_count": null,
      "metadata": {
        "id": "U057NpX5qA29"
      },
      "outputs": [],
      "source": [
        "from os import listdir\n",
        "from numpy import asarray, save\n",
        "from keras.utils import load_img\n",
        "from keras.utils import img_to_array"
      ]
    },
    {
      "cell_type": "code",
      "source": [
        "folder = '/content/drive/MyDrive/AI/Face_Images'\n",
        "photos, labels = list(), list()\n",
        "for file in listdir(folder):\n",
        "  output= 0.0\n",
        "  if file.startswith('Thanh'):\n",
        "    output= 1.0\n",
        "  if file.startswith('Loc'):\n",
        "    output= 2.0\n",
        "  if file.startswith('phong'):\n",
        "    output= 3.0\n",
        "  if file.startswith('Chuong'):\n",
        "    output= 4.0\n",
        "  if file.startswith('Hieu'):\n",
        "    output= 5.0\n",
        "  if file.startswith('Phi'):\n",
        "    output= 6.0\n",
        "  if file.startswith('Tri'):\n",
        "    output= 7.0\n",
        "  if file.startswith('Thang'):\n",
        "    output= 8.0\n",
        "  if file.startswith('Duy'):\n",
        "    output= 9.0\n",
        "  if file.startswith('Tung'):\n",
        "    output= 10.0\n",
        "  if file.startswith('Dong'):\n",
        "    output= 11.0\n",
        "  if file.startswith('VDBinh'):\n",
        "    output= 12.0\n",
        "  if file.startswith('Cuong'):\n",
        "    output= 13.0\n",
        "  if file.startswith('TTri'):\n",
        "    output= 14.0\n",
        "  if file.startswith('Dang'):\n",
        "    output= 15.0\n",
        "  if file.startswith('Khanh'):\n",
        "    output= 16.0\n",
        "  if file.startswith('Nhu'):\n",
        "    output= 17.0\n",
        "    \n",
        "  photo = load_img(folder + '/' + file, target_size= (30,40))\n",
        "  photo= img_to_array(photo)\n",
        "\n",
        "  photos.append(photo)\n",
        "  labels.append(output)\n",
        "\n",
        "photos= asarray(photos)\n",
        "labels= asarray(labels)\n",
        "print(photos.shape, labels.shape)\n",
        "save('/content/drive/MyDrive/AI/AI_Backup/PROJECT/recognize_face/recognize_face_photos.npy', photos)\n",
        "save('/content/drive/MyDrive/AI/AI_Backup/PROJECT/recognize_face/recognize_face_labels.npy', labels)\n"
      ],
      "metadata": {
        "colab": {
          "base_uri": "https://localhost:8080/"
        },
        "id": "mlAOYxkCqjAZ",
        "outputId": "c1861f85-501d-4532-e2f1-67d2eb3e9df3"
      },
      "execution_count": null,
      "outputs": [
        {
          "output_type": "stream",
          "name": "stdout",
          "text": [
            "(1010, 30, 40, 3) (1010,)\n"
          ]
        }
      ]
    },
    {
      "cell_type": "code",
      "source": [
        "import numpy as np\n",
        "# Load images and labels\n",
        "photos = np.load('/content/drive/MyDrive/AI/AI_Backup/PROJECT/recognize_face/recognize_face_photos.npy')\n",
        "labels = np.load('/content/drive/MyDrive/AI/AI_Backup/PROJECT/recognize_face/recognize_face_labels.npy')\n",
        "\n",
        "# Split data into train & test\n",
        "split_index = int(0.1 * len(photos))\n",
        "test_x, test_y = photos[:split_index], labels[:split_index]\n",
        "train_x, train_y = photos[split_index:], labels[split_index:]"
      ],
      "metadata": {
        "id": "7UKDZxvIveKF"
      },
      "execution_count": null,
      "outputs": []
    },
    {
      "cell_type": "code",
      "source": [
        "test_x = test_x.reshape((101, 30, 40, 3))\n",
        "train_x = train_x.reshape((909, 30, 40, 3))\n",
        "test_x = test_x.astype('float32')/255\n",
        "train_x = train_x.astype('float32')/255"
      ],
      "metadata": {
        "id": "vgbXQjM_z4Zo"
      },
      "execution_count": null,
      "outputs": []
    },
    {
      "cell_type": "code",
      "source": [
        "print(train_y.shape)"
      ],
      "metadata": {
        "id": "0KuFIDhwgGCD",
        "colab": {
          "base_uri": "https://localhost:8080/"
        },
        "outputId": "532509fa-e9cc-4d73-d317-35c433f45cf3"
      },
      "execution_count": null,
      "outputs": [
        {
          "output_type": "stream",
          "name": "stdout",
          "text": [
            "(909,)\n"
          ]
        }
      ]
    },
    {
      "cell_type": "code",
      "source": [
        "from keras.utils import to_categorical\n",
        "train_y = to_categorical(train_y,18)\n",
        "test_y = to_categorical(test_y,18)"
      ],
      "metadata": {
        "id": "qykAY5xK2qIs"
      },
      "execution_count": null,
      "outputs": []
    },
    {
      "cell_type": "code",
      "source": [
        "print(train_y.shape)"
      ],
      "metadata": {
        "colab": {
          "base_uri": "https://localhost:8080/"
        },
        "id": "U2gIgNNE1NFP",
        "outputId": "8d664a77-7fe4-414f-f975-8891ef58b29e"
      },
      "execution_count": null,
      "outputs": [
        {
          "output_type": "stream",
          "name": "stdout",
          "text": [
            "(909, 18)\n"
          ]
        }
      ]
    },
    {
      "cell_type": "code",
      "source": [
        "from keras.models import Sequential,Model\n",
        "from keras.layers import Dense,Flatten,Dropout,Conv2D,MaxPooling2D,Normalization,Input\n",
        "from keras.optimizers import Adam\n",
        "from keras import losses\n",
        "loss = losses\n",
        "batch_size = 20\n",
        "epochs = 10\n",
        "classes = 18"
      ],
      "metadata": {
        "id": "YfmFytZO3NqZ"
      },
      "execution_count": null,
      "outputs": []
    },
    {
      "cell_type": "code",
      "source": [
        "from keras.layers import LeakyReLU\n",
        "model = Sequential()\n",
        "model.add(Conv2D(32, kernel_size = (3,3), activation = 'linear', input_shape=(30,40,3), padding= 'same'))\n",
        "model.add(LeakyReLU(alpha = 0.1))\n",
        "\n",
        "model.add(MaxPooling2D((2,2), padding = 'same'))\n",
        "model.add(Conv2D(64, (3,3), activation = 'linear', padding = 'same'))\n",
        "model.add(LeakyReLU(alpha = 0.1))\n",
        "\n",
        "model.add(MaxPooling2D((2,2), padding = 'same'))\n",
        "model.add(Conv2D(128, (3,3), activation = 'linear', padding = 'same'))\n",
        "model.add(LeakyReLU(alpha = 0.1))"
      ],
      "metadata": {
        "id": "CwAW6B3l3dWs"
      },
      "execution_count": null,
      "outputs": []
    },
    {
      "cell_type": "code",
      "source": [
        "#Đưa vào ANN, bộ ANN để phân loại:\n",
        "from keras.losses import categorical_crossentropy\n",
        "model.add(Flatten())\n",
        "model.add(Dense(128, activation = 'linear'))\n",
        "model.add(LeakyReLU(alpha = 0.1))\n",
        "model.add(Dense(classes, activation = 'softmax'))\n",
        "model.summary()\n"
      ],
      "metadata": {
        "colab": {
          "base_uri": "https://localhost:8080/"
        },
        "id": "61oFos9O3fzc",
        "outputId": "945ec049-3b17-4c60-c660-70ff97d2d277"
      },
      "execution_count": null,
      "outputs": [
        {
          "output_type": "stream",
          "name": "stdout",
          "text": [
            "Model: \"sequential_40\"\n",
            "_________________________________________________________________\n",
            " Layer (type)                Output Shape              Param #   \n",
            "=================================================================\n",
            " conv2d_120 (Conv2D)         (None, 30, 40, 32)        896       \n",
            "                                                                 \n",
            " leaky_re_lu_163 (LeakyReLU)  (None, 30, 40, 32)       0         \n",
            "                                                                 \n",
            " max_pooling2d_80 (MaxPoolin  (None, 15, 20, 32)       0         \n",
            " g2D)                                                            \n",
            "                                                                 \n",
            " conv2d_121 (Conv2D)         (None, 15, 20, 64)        18496     \n",
            "                                                                 \n",
            " leaky_re_lu_164 (LeakyReLU)  (None, 15, 20, 64)       0         \n",
            "                                                                 \n",
            " max_pooling2d_81 (MaxPoolin  (None, 8, 10, 64)        0         \n",
            " g2D)                                                            \n",
            "                                                                 \n",
            " conv2d_122 (Conv2D)         (None, 8, 10, 128)        73856     \n",
            "                                                                 \n",
            " leaky_re_lu_165 (LeakyReLU)  (None, 8, 10, 128)       0         \n",
            "                                                                 \n",
            " flatten_43 (Flatten)        (None, 10240)             0         \n",
            "                                                                 \n",
            " dense_86 (Dense)            (None, 128)               1310848   \n",
            "                                                                 \n",
            " leaky_re_lu_166 (LeakyReLU)  (None, 128)              0         \n",
            "                                                                 \n",
            " dense_87 (Dense)            (None, 18)                2322      \n",
            "                                                                 \n",
            "=================================================================\n",
            "Total params: 1,406,418\n",
            "Trainable params: 1,406,418\n",
            "Non-trainable params: 0\n",
            "_________________________________________________________________\n"
          ]
        }
      ]
    },
    {
      "cell_type": "code",
      "source": [
        "from keras.preprocessing.image import ImageDataGenerator\n",
        "#Compile:\n",
        "model.compile(optimizer = Adam(), loss = 'categorical_crossentropy', metrics = ['accuracy'])\n",
        "# Augment data with ImageDataGenerator\n",
        "datagen = ImageDataGenerator(rotation_range=20, width_shift_range=0.5, height_shift_range=0.5, shear_range=0.5, zoom_range=0.5, horizontal_flip=True)\n",
        "datagen.fit(train_x)\n",
        "#train model\n",
        "train = model.fit(train_x, train_y, batch_size= batch_size, epochs= epochs, verbose= 1)"
      ],
      "metadata": {
        "colab": {
          "base_uri": "https://localhost:8080/"
        },
        "id": "OqV6W9S03nd7",
        "outputId": "1e563c1d-bc45-4ad8-9d75-82be70e063bb"
      },
      "execution_count": null,
      "outputs": [
        {
          "output_type": "stream",
          "name": "stdout",
          "text": [
            "Epoch 1/10\n",
            "46/46 [==============================] - 1s 5ms/step - loss: 0.0324 - accuracy: 0.9934\n",
            "Epoch 2/10\n",
            "46/46 [==============================] - 0s 5ms/step - loss: 0.0183 - accuracy: 0.9978\n",
            "Epoch 3/10\n",
            "46/46 [==============================] - 0s 5ms/step - loss: 0.0096 - accuracy: 0.9978\n",
            "Epoch 4/10\n",
            "46/46 [==============================] - 0s 7ms/step - loss: 0.0092 - accuracy: 0.9989\n",
            "Epoch 5/10\n",
            "46/46 [==============================] - 0s 7ms/step - loss: 0.0119 - accuracy: 0.9967\n",
            "Epoch 6/10\n",
            "46/46 [==============================] - 0s 6ms/step - loss: 0.0201 - accuracy: 0.9956\n",
            "Epoch 7/10\n",
            "46/46 [==============================] - 0s 7ms/step - loss: 0.0703 - accuracy: 0.9824\n",
            "Epoch 8/10\n",
            "46/46 [==============================] - 0s 6ms/step - loss: 0.0548 - accuracy: 0.9879\n",
            "Epoch 9/10\n",
            "46/46 [==============================] - 0s 6ms/step - loss: 0.0100 - accuracy: 0.9978\n",
            "Epoch 10/10\n",
            "46/46 [==============================] - 0s 6ms/step - loss: 0.0089 - accuracy: 0.9989\n"
          ]
        }
      ]
    },
    {
      "cell_type": "code",
      "source": [
        "import matplotlib.pyplot as plt\n",
        "eval = model.evaluate(test_x, test_y, verbose=0)\n",
        "print('Test loss:', eval[0])\n",
        "print('Test accunacy', eval[1])\n",
        "accuracy = train.history['accuracy']\n",
        "loss = train.history['loss']\n",
        "epochs = range(len(accuracy))\n",
        "plt.plot(epochs, accuracy,'bo', label = 'Traning Accuracy')\n",
        "plt.plot(epochs, loss, 'b', label= 'Test Accuracy')\n",
        "plt.title('Training & Testing Accuracy')"
      ],
      "metadata": {
        "colab": {
          "base_uri": "https://localhost:8080/",
          "height": 504
        },
        "id": "1BtQFH0Q93ib",
        "outputId": "e138c513-3ea3-49c4-c632-4e5604c00d08"
      },
      "execution_count": null,
      "outputs": [
        {
          "output_type": "stream",
          "name": "stdout",
          "text": [
            "Test loss: 0.21088014543056488\n",
            "Test accunacy 0.9504950642585754\n"
          ]
        },
        {
          "output_type": "execute_result",
          "data": {
            "text/plain": [
              "Text(0.5, 1.0, 'Training & Testing Accuracy')"
            ]
          },
          "metadata": {},
          "execution_count": 428
        },
        {
          "output_type": "display_data",
          "data": {
            "text/plain": [
              "<Figure size 640x480 with 1 Axes>"
            ],
            "image/png": "[encoded data removed]"
          },
          "metadata": {}
        }
      ]
    },
    {
      "cell_type": "code",
      "source": [
        "model.save('/content/drive/MyDrive/AI/AI_Backup/PROJECT/Models/recognize_face.h5')"
      ],
      "metadata": {
        "id": "fsD6ySX-33Ms"
      },
      "execution_count": null,
      "outputs": []
    },
    {
      "cell_type": "code",
      "source": [
        "from keras.utils import load_img\n",
        "from keras.utils.image_utils import img_to_array\n",
        "import numpy as np\n",
        "from keras.models import load_model\n",
        "import matplotlib.pyplot as plt\n",
        "\n",
        "url = '/content/drive/MyDrive/AI/Face_Images/Thanh (17).jpg'\n",
        "img = load_img(url)\n",
        "plt.imshow(img)\n",
        "\n",
        "img = load_img(url, target_size = (30,40))\n",
        "img = img_to_array(img)\n",
        "img = img.reshape(1, 30, 40, 3)\n",
        "img = img.astype('float32')\n",
        "img = img / 255\n",
        "np.argmax(model.predict(img),axis = -1)"
      ],
      "metadata": {
        "colab": {
          "base_uri": "https://localhost:8080/",
          "height": 466
        },
        "id": "o_VlbHt47atI",
        "outputId": "9201d401-5cf4-437d-f08b-fed936258289"
      },
      "execution_count": null,
      "outputs": [
        {
          "output_type": "stream",
          "name": "stdout",
          "text": [
            "1/1 [==============================] - 0s 80ms/step\n"
          ]
        },
        {
          "output_type": "execute_result",
          "data": {
            "text/plain": [
              "array([1])"
            ]
          },
          "metadata": {},
          "execution_count": 430
        },
        {
          "output_type": "display_data",
          "data": {
            "text/plain": [
              "<Figure size 640x480 with 1 Axes>"
            ],
            "image/png": "[encoded data removed]"
          },
          "metadata": {}
        }
      ]
    }
  ]
}